{
 "cells": [
  {
   "cell_type": "code",
   "execution_count": null,
   "metadata": {},
   "outputs": [],
   "source": [
    "import numpy as np\n",
    "import pandas as pd\n",
    "import time \n",
    "import datetime as datetime\n",
    "import glob\n",
    "import matplotlib.gridspec as gridspec\n",
    "import matplotlib.pyplot as plt\n",
    "np.random.seed(1)"
   ]
  },
  {
   "cell_type": "code",
   "execution_count": null,
   "metadata": {},
   "outputs": [],
   "source": [
    "Pad = pd.read_csv('PadData_v2.csv')\n",
    "Pad.head()"
   ]
  },
  {
   "cell_type": "code",
   "execution_count": null,
   "metadata": {},
   "outputs": [],
   "source": [
    "T = 3617\n",
    "m = 10\n",
    "to_draw = np.sort(Pad['timestamp'].unique())\n",
    "ccy = np.sort(Pad['currency pair'].unique())\n",
    "min_history = 1000 # min episode length\n",
    "    \n",
    "def generate_episode(n,cur):\n",
    "    _max = to_draw.shape[0]\n",
    "    _end = min(n+T, _max)\n",
    "    timeframe = to_draw[n:_end]\n",
    "    other_bid = np.zeros((timeframe.shape[0],ccy.shape[0]-1))\n",
    "    other_ask = np.zeros((timeframe.shape[0],ccy.shape[0]-1))\n",
    "    i = 0\n",
    "    for elem in ccy:\n",
    "        tmp = Pad[Pad['currency pair'] == elem]\n",
    "        if elem == cur:\n",
    "            target_bid = tmp[tmp.timestamp.isin(timeframe)]['bid price'].values\n",
    "            target_ask = tmp[tmp.timestamp.isin(timeframe)]['ask price'].values\n",
    "        else:\n",
    "            other_bid[:,i] = tmp[tmp.timestamp.isin(timeframe)]['bid price'].values\n",
    "            other_ask[:,i] = tmp[tmp.timestamp.isin(timeframe)]['ask price'].values\n",
    "            i += 1\n",
    "    target_mid = np.mean(np.array([target_bid, target_ask]),axis=0)\n",
    "    other_mid = np.mean(np.array([other_bid, other_ask]),axis=0)\n",
    "    return target_bid, target_ask, other_mid, target_mid\n",
    "\n",
    "def features(price_path,m):\n",
    "    features = np.zeros((price_path.shape[0]-m,m))\n",
    "    for i in range(m):\n",
    "        features[:,i] = (np.log(price_path) - np.log(np.roll(price_path, i+1)))[m:]\n",
    "    return features\n",
    "\n",
    "def BollingerBands(price_path,m):\n",
    "    _mean = pd.Series(price_path).rolling(window=m).mean().values[m:]\n",
    "    _std = pd.Series(price_path).rolling(window=m).std().values[m:]\n",
    "    upper = _mean + 2*_std\n",
    "    lower = _mean - 2*_std\n",
    "    return _mean, upper, lower\n",
    "\n",
    "def get_features(target_bid, target_ask, other_mid, target_mid, m):\n",
    "    feature_span = features(target_bid,m)\n",
    "    feature_span = np.append(feature_span, features(target_ask,m), axis = 1)\n",
    "    for i in range(other_mid.shape[1]):\n",
    "        feature_span = np.append(feature_span, features(other_mid[:,i],m), axis = 1)\n",
    "    _mean, upper, lower = BollingerBands(target_mid,m)\n",
    "    tech_features = np.array([_mean, upper, lower]).T\n",
    "    return feature_span, tech_features\n",
    "\n",
    "def draw_episode(m, cur, min_history):\n",
    "    '''\n",
    "    Input:\n",
    "        m, number of lag returns z_1,...z_m\n",
    "        cur, currency pair that we target to trade\n",
    "        min_history, min length of a valid episode\n",
    "    '''\n",
    "    n = np.random.randint(to_draw.shape[0] - min_history)\n",
    "    target_bid, target_ask, other_mid, target_mid = generate_episode(n,cur)\n",
    "    feature_span, tech_features = get_features(target_bid, target_ask, other_mid, target_mid, m)\n",
    "    return target_bid, target_ask, feature_span, tech_features"
   ]
  }
 ],
 "metadata": {
  "kernelspec": {
   "display_name": "Python 3",
   "language": "python",
   "name": "python3"
  },
  "language_info": {
   "codemirror_mode": {
    "name": "ipython",
    "version": 3
   },
   "file_extension": ".py",
   "mimetype": "text/x-python",
   "name": "python",
   "nbconvert_exporter": "python",
   "pygments_lexer": "ipython3",
   "version": "3.6.8"
  },
  "toc": {
   "base_numbering": 1,
   "nav_menu": {},
   "number_sections": true,
   "sideBar": true,
   "skip_h1_title": false,
   "title_cell": "Table of Contents",
   "title_sidebar": "Contents",
   "toc_cell": false,
   "toc_position": {},
   "toc_section_display": true,
   "toc_window_display": false
  }
 },
 "nbformat": 4,
 "nbformat_minor": 2
}
